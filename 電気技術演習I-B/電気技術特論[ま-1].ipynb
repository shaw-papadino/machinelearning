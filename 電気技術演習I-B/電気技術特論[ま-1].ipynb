{
 "cells": [
  {
   "cell_type": "code",
   "execution_count": 43,
   "metadata": {},
   "outputs": [
    {
     "name": "stdout",
     "output_type": "stream",
     "text": [
      "適合率：　平均79.6333333333,分散15.6933333333,標準偏差3.96148120447\n",
      "再現率：　平均94.8555555556,分散1.25580246914,標準偏差1.12062592739\n"
     ]
    }
   ],
   "source": [
    "import numpy as np\n",
    "\n",
    "# data = np.loadtxt('/Users/okayamashoya/Documents/c_matrixTest.csv', delimiter=',', dtype = int)\n",
    "precision = [83.1,80.9,81.7,76.0,81.4,81.4,69.7,81.2,81.3]\n",
    "recall = [95.6,94.2,96.3,93.2,95.2,95.6,93.0,94.6,96.0]\n",
    "# number = data[:,0]\n",
    "# kokugo = data[:,1]\n",
    "# math = data[:,2]\n",
    "mPrecision = np.mean(precision)\n",
    "vPrecision = np.var(precision)\n",
    "sPrecision = np.std(precision)\n",
    "print(\"適合率：　平均{0},分散{1},標準偏差{2}\".format(mPrecision,vPrecision,sPrecision))\n",
    "mRecall = np.mean(recall)\n",
    "vRecall = np.var(recall)\n",
    "sRecall = np.std(recall)\n",
    "print(\"再現率：　平均{0},分散{1},標準偏差{2}\".format(mRecall,vRecall,sRecall))"
   ]
  },
  {
   "cell_type": "code",
   "execution_count": 27,
   "metadata": {},
   "outputs": [
    {
     "name": "stdout",
     "output_type": "stream",
     "text": [
      "(75.67185212886785, 83.59481453779883)\n"
     ]
    }
   ],
   "source": [
    "minP = mPrecision - sPrecision\n",
    "maxP = mPrecision + sPrecision\n",
    "\n",
    "print(minP, maxP)"
   ]
  },
  {
   "cell_type": "code",
   "execution_count": 36,
   "metadata": {
    "scrolled": true
   },
   "outputs": [
    {
     "data": {
      "image/png": "[encoded data removed]",
      "text/plain": [
       "<matplotlib.figure.Figure at 0x10de4ef50>"
      ]
     },
     "metadata": {},
     "output_type": "display_data"
    }
   ],
   "source": [
    "import matplotlib.pyplot as plt\n",
    "%matplotlib inline\n",
    "\n",
    "plt.hist(precision, bins=3)\n",
    "plt.show()"
   ]
  },
  {
   "cell_type": "code",
   "execution_count": 40,
   "metadata": {},
   "outputs": [
    {
     "ename": "SyntaxError",
     "evalue": "invalid syntax (<ipython-input-40-f7b15ed61ae7>, line 4)",
     "output_type": "error",
     "traceback": [
      "\u001b[0;36m  File \u001b[0;32m\"<ipython-input-40-f7b15ed61ae7>\"\u001b[0;36m, line \u001b[0;32m4\u001b[0m\n\u001b[0;31m    print(f'{a} and {b}')\u001b[0m\n\u001b[0m                       ^\u001b[0m\n\u001b[0;31mSyntaxError\u001b[0m\u001b[0;31m:\u001b[0m invalid syntax\n"
     ]
    }
   ],
   "source": [
    "a = 123\n",
    "\n",
    "b = 'abc'\n",
    "print(f'{a} and {b}')"
   ]
  },
  {
   "cell_type": "code",
   "execution_count": 21,
   "metadata": {},
   "outputs": [
    {
     "data": {
      "text/plain": [
       "421.0"
      ]
     },
     "execution_count": 21,
     "metadata": {},
     "output_type": "execute_result"
    }
   ],
   "source": [
    "np.var(kokugo)"
   ]
  },
  {
   "cell_type": "code",
   "execution_count": 22,
   "metadata": {},
   "outputs": [
    {
     "name": "stdout",
     "output_type": "stream",
     "text": [
      "[[467.77777778 311.11111111]\n",
      " [311.11111111 222.22222222]]\n"
     ]
    }
   ],
   "source": [
    "cobunsan = np.cov(kokugo,math)\n",
    "print(cobunsan)"
   ]
  },
  {
   "cell_type": "code",
   "execution_count": 23,
   "metadata": {},
   "outputs": [
    {
     "name": "stdout",
     "output_type": "stream",
     "text": [
      "[[ 0.03103448 -0.04344828]\n",
      " [-0.04344828  0.06532759]]\n"
     ]
    }
   ],
   "source": [
    "gyakugyouretu = np.linalg.inv(cobunsan)\n",
    "print(gyakugyouretu)"
   ]
  },
  {
   "cell_type": "code",
   "execution_count": 24,
   "metadata": {},
   "outputs": [
    {
     "name": "stdout",
     "output_type": "stream",
     "text": [
      "[90 90]\n",
      "[30 50]\n"
     ]
    }
   ],
   "source": [
    "kokugo2 = data[4,1:3] - data[8,1:3]\n",
    "print(data[4,1:3])\n",
    "print(data[8,1:3])"
   ]
  },
  {
   "cell_type": "code",
   "execution_count": 25,
   "metadata": {},
   "outputs": [
    {
     "name": "stdout",
     "output_type": "stream",
     "text": [
      "[60 40]\n",
      "[60 40]\n",
      "[0.12413793 0.0062069 ]\n"
     ]
    }
   ],
   "source": [
    "kokugo3 = np.transpose(kokugo2)\n",
    "g = np.dot(kokugo3, gyakugyouretu)\n",
    "print(kokugo2)\n",
    "print(kokugo3)\n",
    "print(g)"
   ]
  },
  {
   "cell_type": "code",
   "execution_count": 26,
   "metadata": {},
   "outputs": [],
   "source": [
    "sum = data[:,1] + data[:,2]"
   ]
  },
  {
   "cell_type": "code",
   "execution_count": 27,
   "metadata": {},
   "outputs": [
    {
     "data": {
      "text/plain": [
       "array([8, 1, 2, 0, 3, 5, 6, 7, 9, 4])"
      ]
     },
     "execution_count": 27,
     "metadata": {},
     "output_type": "execute_result"
    }
   ],
   "source": [
    "np.argsort(sum)"
   ]
  },
  {
   "cell_type": "code",
   "execution_count": 28,
   "metadata": {},
   "outputs": [
    {
     "data": {
      "text/plain": [
       "array([90, 80, 70, 70, 60, 50, 50, 50, 30, 20])"
      ]
     },
     "execution_count": 28,
     "metadata": {},
     "output_type": "execute_result"
    }
   ],
   "source": [
    "kokugo"
   ]
  },
  {
   "cell_type": "code",
   "execution_count": 29,
   "metadata": {},
   "outputs": [
    {
     "data": {
      "text/plain": [
       "20"
      ]
     },
     "execution_count": 29,
     "metadata": {},
     "output_type": "execute_result"
    }
   ],
   "source": [
    "kokugo[9]"
   ]
  },
  {
   "cell_type": "code",
   "execution_count": 30,
   "metadata": {},
   "outputs": [
    {
     "data": {
      "text/plain": [
       "90"
      ]
     },
     "execution_count": 30,
     "metadata": {},
     "output_type": "execute_result"
    }
   ],
   "source": [
    "kokugo[0]"
   ]
  },
  {
   "cell_type": "code",
   "execution_count": 31,
   "metadata": {},
   "outputs": [
    {
     "name": "stdout",
     "output_type": "stream",
     "text": [
      "7.69655172413794\n"
     ]
    }
   ],
   "source": [
    "g = np.dot(g, kokugo2)\n",
    "print(g)"
   ]
  },
  {
   "cell_type": "code",
   "execution_count": 32,
   "metadata": {
    "scrolled": true
   },
   "outputs": [
    {
     "data": {
      "text/plain": [
       "array([90, 90, 80, 80, 70, 70, 60, 60, 50, 50])"
      ]
     },
     "execution_count": 32,
     "metadata": {},
     "output_type": "execute_result"
    }
   ],
   "source": [
    "math"
   ]
  },
  {
   "cell_type": "code",
   "execution_count": 33,
   "metadata": {},
   "outputs": [
    {
     "data": {
      "text/plain": [
       "array([30, 50])"
      ]
     },
     "execution_count": 33,
     "metadata": {},
     "output_type": "execute_result"
    }
   ],
   "source": [
    "data[8,1:3]"
   ]
  },
  {
   "cell_type": "code",
   "execution_count": 34,
   "metadata": {},
   "outputs": [
    {
     "name": "stdout",
     "output_type": "stream",
     "text": [
      "[ 9  1  8  5 10  3  4  7  6  2]\n",
      "[3.7862068965517244, 87.96724137931035, 12.413793103448278, 21.42931034482759, 7.69655172413794, 47.420689655172424, 40.670689655172424, 6.26896551724138, 0.0, 8.518965517241384]\n"
     ]
    }
   ],
   "source": [
    "\n",
    "mahar_list = []\n",
    "for i , array in enumerate(data):\n",
    "    #print(data[i,1:3] )\n",
    "    dataA = data[i,1:3] - data[8,1:3]\n",
    "    mahar_list.append(np.dot(np.dot(np.transpose(dataA), gyakugyouretu), dataA))\n",
    "contest = np.argsort(mahar_list)\n",
    "print(data[contest, 0])\n",
    "print(mahar_list)"
   ]
  }
 ],
 "metadata": {
  "anaconda-cloud": {},
  "kernelspec": {
   "display_name": "Python 3",
   "language": "python",
   "name": "python3"
  },
  "language_info": {
   "codemirror_mode": {
    "name": "ipython",
    "version": 3
   },
   "file_extension": ".py",
   "mimetype": "text/x-python",
   "name": "python",
   "nbconvert_exporter": "python",
   "pygments_lexer": "ipython3",
   "version": "3.6.5"
  }
 },
 "nbformat": 4,
 "nbformat_minor": 1
}
