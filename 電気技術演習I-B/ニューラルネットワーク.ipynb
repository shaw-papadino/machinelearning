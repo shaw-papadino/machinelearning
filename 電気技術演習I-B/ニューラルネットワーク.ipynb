{
 "cells": [
  {
   "cell_type": "code",
   "execution_count": 1,
   "metadata": {},
   "outputs": [],
   "source": [
    "import numpy as np\n",
    "import matplotlib.pyplot as plt\n",
    "from mpl_toolkits.mplot3d import Axes3D\n",
    "from scipy.optimize import minimize\n",
    "%matplotlib inline\n",
    "\n",
    "\n",
    "np.random.seed(1)\n",
    "N = 200\n",
    "K = 3\n",
    "M = 2\n",
    "T3 = np.zeros((N,3), dtype=np.uint8)\n",
    "T2 = np.zeros((N,2))\n",
    "X = np.zeros((N,K))\n",
    "X_range0 = [-3, 3]\n",
    "X_range1 = [-3, 3]\n",
    "# print(np.shape(T3))\n",
    "# print(T3)\n",
    "mu = np.array([[-0.5, -0.5], [0.5, 1.0], [1, -0.5]])\n",
    "sig = np.array([[0.7, 0.7], [0.8, 0.3], [0.3, 0.8]])\n",
    "pi = np.array([0.4, 0.8, 1])\n",
    "\n",
    "for n in range(N):\n",
    "    wk = np.random.rand()\n",
    "    for k in range(K):\n",
    "        if wk < pi[k]:\n",
    "            T3[n, k] = 1\n",
    "            break\n",
    "    for k in range(2):\n",
    "#         print(sig[T3[n, : ]== 1, k])\n",
    "#         T3[n, : ]== 1　は　0,1,2のどれかを返す\n",
    "        X[n, k] = np.random.randn() * sig[T3[n, : ]== 1, k] + mu[T3[n, :] == 1, k]\n",
    "        \n",
    "X[:, M] = 1\n",
    "# T2[:, 0] = T3[:, 0]\n",
    "# T2[:,1] = T3[:, 1]\n",
    "# T2[:,1] = T2[:, 1] + T3[:, 2]"
   ]
  },
  {
   "cell_type": "code",
   "execution_count": 2,
   "metadata": {},
   "outputs": [],
   "source": [
    "TestRatio = 0.5\n",
    "X_n_training = int(N * TestRatio)\n",
    "X_train = X[:X_n_training, :]\n",
    "X_test = X[X_n_training:, :]\n",
    "T_train = T3[:X_n_training, :]\n",
    "T_test = T3[X_n_training:, :]\n",
    "\n",
    "np.savez(\"class_data.npz\", X_train=X_train, T_train=T_train, X_test=X_test, T_test=T_test, X_range0=X_range0, X_range1=X_range1)"
   ]
  },
  {
   "cell_type": "code",
   "execution_count": 3,
   "metadata": {},
   "outputs": [],
   "source": [
    "def sigmoid(x):\n",
    "    y = 1 / (1 + np.exp(-x))\n",
    "    return y\n",
    "\n",
    "def fnn(wv, M, K, x):\n",
    "    N, D = x.shape\n",
    "    w = wv[:M * D]\n",
    "    w = w.reshape(M, D)\n",
    "    \n",
    "    v = wv[M * D:]\n",
    "    v = v.reshape(K, (M + 1))\n",
    "    b = np.zeros((N, M +1))\n",
    "    z = np.zeros((N, M +1))\n",
    "#     z[:, M] = 1\n",
    "    a = np.zeros((N, K))\n",
    "    y = np.zeros((N, K))\n",
    "    \n",
    "    for n in range(N):\n",
    "        for m in range(M):\n",
    "            b[n, m] = np.dot(w[m, :], x[n, :])\n",
    "            z[n, m] = sigmoid(b[n,m])\n",
    "        wkz = 0\n",
    "        z[n, M] = 1\n",
    "        \n",
    "        for k in range(K):\n",
    "            a[n, k] = np.dot(v[k, :], z[n, :])\n",
    "            wkz = wkz + np.exp(a[n, k])\n",
    "        for k in range(K):\n",
    "            y[n,k] = np.exp(a[n,k]) / wkz\n",
    "    return y, a, z, b\n",
    "\n",
    "def ce_fnn(wv, M, K,x, t):\n",
    "    N, D = x.shape\n",
    "    y, a, z, b = fnn(wv, M, K, x)\n",
    "    ce = -np.dot(np.log(y.reshape(-1)), t.reshape(-1)) / N\n",
    "    return ce\n",
    "\n",
    "def dce_fnn_num(wv, M, K, x, t):\n",
    "    epsilon = 0.001\n",
    "    # 元の配列と同じ形状の配列を生成する中身はゼロ\n",
    "    dwv = np.zeros_like(wv)\n",
    "    for iwv in range(len(wv)):\n",
    "        # 値渡し？\n",
    "        # ただの代入だと参照渡しといって、元の配列にも影響が出てしまう\n",
    "        wv_modified = wv.copy()\n",
    "        wv_modified[iwv] = wv[iwv] - epsilon\n",
    "        mse1 = ce_fnn(wv_modified, M, K, x, t)\n",
    "        wv_modified[iwv] = wv[iwv] + epsilon\n",
    "        mse2 = ce_fnn(wv_modified, M, K, x, t)\n",
    "        dwv[iwv] = (mse2 - mse1) / (2 * epsilon)\n",
    "    return dwv\n",
    "\n",
    "def fit_fnn_num(wv_init, M, K, x_train, t_train, x_test, t_test, n, alpha):\n",
    "    wvt = wv_init\n",
    "    err_train = np.zeros(n)\n",
    "    err_test = np.zeros(n)\n",
    "    wv_hist = np.zeros((n, len(wv_init)))\n",
    "\n",
    "    for i in range(n):\n",
    "        wvt  = wvt - alpha * dce_fnn_num(wvt, M, K, x_train, t_train)\n",
    "        err_train[i] = ce_fnn(wvt, M, K, x_train, t_train)\n",
    "        err_test[i] = ce_fnn(wvt, M, K, x_test, t_test)\n",
    "        wv_hist[i, :] = wvt\n",
    "    return wvt, wv_hist, err_train, err_test\n",
    "\n",
    "def dce_fnn(wv, M, K, x, t):\n",
    "    N, D = x.shape\n",
    "    w = wv[:M * D]\n",
    "    w = w.reshape(M, D)\n",
    "    \n",
    "    v = wv[M * D:]\n",
    "    v = v.reshape(K, (M + 1))\n",
    "    \n",
    "    y, a, z, b = fnn(wv, M, K, x)\n",
    "    \n",
    "    dwv = np.zeros_like(wv)\n",
    "    dw = np.zeros()"
   ]
  },
  {
   "cell_type": "code",
   "execution_count": 42,
   "metadata": {},
   "outputs": [
    {
     "data": {
      "text/plain": [
       "1.0986122886681098"
      ]
     },
     "execution_count": 42,
     "metadata": {},
     "output_type": "execute_result"
    }
   ],
   "source": [
    "WV = np.ones(15)\n",
    "M = 2\n",
    "K = 3\n",
    "ce_fnn(WV,M, K, X_train[:2, :], T_train[:2, :])"
   ]
  },
  {
   "cell_type": "code",
   "execution_count": 49,
   "metadata": {},
   "outputs": [
    {
     "data": {
      "text/plain": [
       "(100, 2)"
      ]
     },
     "execution_count": 49,
     "metadata": {},
     "output_type": "execute_result"
    }
   ],
   "source": [
    "np.shape(X_train)"
   ]
  },
  {
   "cell_type": "code",
   "execution_count": 52,
   "metadata": {},
   "outputs": [
    {
     "name": "stdout",
     "output_type": "stream",
     "text": [
      "143.0352098941803\n",
      "0.21776875828138353\n",
      "0.2841594584850213\n"
     ]
    },
    {
     "data": {
      "image/png": "[encoded data removed]",
      "text/plain": [
       "<Figure size 216x216 with 1 Axes>"
      ]
     },
     "metadata": {},
     "output_type": "display_data"
    }
   ],
   "source": [
    "import time\n",
    "starttime = time.time()\n",
    "WV_init = np.random.normal(0, 0.01, M * 3 + K * (M + 1))\n",
    "# Xavier の初期値 　= 1 / √前層のノード数\n",
    "W_init_X = np.random.randn(M * 3) / np.sqrt(np.shape(X_train)[1])\n",
    "V_init_X = np.random.randn(K * (M + 1)) / np.sqrt(M)\n",
    "WV_init_X = np.r_[W_init_X, V_init_X]\n",
    "\n",
    "N_step = 1000\n",
    "alpha = 0.5\n",
    "WV, WV_hist, Err_train, Err_test = fit_fnn_num(WV_init, M, K, X_train, T_train, X_test, T_test, N_step, alpha)\n",
    "ca_time = time.time() - starttime\n",
    "print(ca_time)\n",
    "print(Err_train[-1])\n",
    "print(Err_test[-1])\n",
    "plt.figure(1, figsize=(3, 3))\n",
    "plt.plot(Err_train, \"black\", label=\"train\")\n",
    "plt.plot(Err_test, \"blue\",label=\"test\")\n",
    "plt.legend()\n",
    "plt.show()\n"
   ]
  },
  {
   "cell_type": "code",
   "execution_count": 16,
   "metadata": {},
   "outputs": [
    {
     "data": {
      "text/plain": [
       "(3,)"
      ]
     },
     "execution_count": 16,
     "metadata": {},
     "output_type": "execute_result"
    }
   ],
   "source": [
    "a = np.array([[1,2,3],[4,5,6]])\n",
    "b = np.array([[1,2,3,4],[4,5,6,7]])\n",
    "a[0, :].shape"
   ]
  },
  {
   "cell_type": "code",
   "execution_count": 13,
   "metadata": {},
   "outputs": [
    {
     "ename": "ValueError",
     "evalue": "shapes (3,) and (4,) not aligned: 3 (dim 0) != 4 (dim 0)",
     "output_type": "error",
     "traceback": [
      "\u001b[0;31m---------------------------------------------------------------------------\u001b[0m",
      "\u001b[0;31mValueError\u001b[0m                                Traceback (most recent call last)",
      "\u001b[0;32m<ipython-input-13-6118650648cd>\u001b[0m in \u001b[0;36m<module>\u001b[0;34m()\u001b[0m\n\u001b[0;32m----> 1\u001b[0;31m \u001b[0mnp\u001b[0m\u001b[0;34m.\u001b[0m\u001b[0mdot\u001b[0m\u001b[0;34m(\u001b[0m\u001b[0ma\u001b[0m\u001b[0;34m[\u001b[0m\u001b[0;36m0\u001b[0m\u001b[0;34m,\u001b[0m \u001b[0;34m:\u001b[0m\u001b[0;34m]\u001b[0m\u001b[0;34m,\u001b[0m\u001b[0mb\u001b[0m\u001b[0;34m[\u001b[0m\u001b[0;36m0\u001b[0m\u001b[0;34m,\u001b[0m \u001b[0;34m:\u001b[0m\u001b[0;34m]\u001b[0m\u001b[0;34m)\u001b[0m\u001b[0;34m\u001b[0m\u001b[0m\n\u001b[0m",
      "\u001b[0;31mValueError\u001b[0m: shapes (3,) and (4,) not aligned: 3 (dim 0) != 4 (dim 0)"
     ]
    }
   ],
   "source": [
    "np.dot(a[0, :],b[0, :])"
   ]
  },
  {
   "cell_type": "code",
   "execution_count": null,
   "metadata": {},
   "outputs": [],
   "source": []
  }
 ],
 "metadata": {
  "kernelspec": {
   "display_name": "Python 3",
   "language": "python",
   "name": "python3"
  },
  "language_info": {
   "codemirror_mode": {
    "name": "ipython",
    "version": 3
   },
   "file_extension": ".py",
   "mimetype": "text/x-python",
   "name": "python",
   "nbconvert_exporter": "python",
   "pygments_lexer": "ipython3",
   "version": "3.6.5"
  }
 },
 "nbformat": 4,
 "nbformat_minor": 2
}
