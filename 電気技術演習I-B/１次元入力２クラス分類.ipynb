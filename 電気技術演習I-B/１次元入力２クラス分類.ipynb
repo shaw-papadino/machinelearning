{
 "cells": [
  {
   "cell_type": "code",
   "execution_count": 1,
   "metadata": {},
   "outputs": [],
   "source": [
    "import numpy as np\n",
    "import matplotlib.pyplot as plt\n",
    "%matplotlib inline\n",
    "\n",
    "np.random.seed(0)\n",
    "\n",
    "X_min = 0\n",
    "X_max = 2.5\n",
    "X_n = 30\n",
    "\n",
    "X = np.zeros(X_n)\n",
    "T = np.zeros(X_n, dtype=np.uint8)\n",
    "\n",
    "d_s = [0.4, 0.8]\n",
    "d_w = [0.8, 1.6]\n",
    "Pi = 0.5\n",
    "\n",
    "for n in range(X_n):\n",
    "    wk = np.random.rand()\n",
    "    T[n] = 0 * (wk < Pi) + 1 * (wk >= Pi)\n",
    "    X[n] = np.random.rand() * d_w[T[n]] + d_s[T[n]]"
   ]
  },
  {
   "cell_type": "code",
   "execution_count": 2,
   "metadata": {},
   "outputs": [
    {
     "name": "stdout",
     "output_type": "stream",
     "text": [
      "[1 1 0 0 1 1 1 0 0 1 1 0 0 0 1 0 0 0 1 1 0 1 1 0 0 1 1 0 1 0]\n"
     ]
    }
   ],
   "source": [
    "print(T)"
   ]
  },
  {
   "cell_type": "code",
   "execution_count": 3,
   "metadata": {},
   "outputs": [
    {
     "name": "stdout",
     "output_type": "stream",
     "text": [
      "[1.94430299 1.67181309 0.91671529 1.1134184  1.41350643 1.64623187\n",
      " 2.28095462 0.46970344 1.06609588 2.19201944 2.0786537  1.02442334\n",
      " 0.91193682 1.15573513 1.4634591  1.01938695 0.85474716 0.8941084\n",
      " 1.78709439 1.89091248 0.74962556 0.89636075 1.87302059 0.50314104\n",
      " 0.69096862 1.50176242 0.9632717  0.52904761 1.20526656 0.59554047]\n"
     ]
    }
   ],
   "source": [
    "print(X)"
   ]
  },
  {
   "cell_type": "code",
   "execution_count": 8,
   "metadata": {},
   "outputs": [
    {
     "name": "stdout",
     "output_type": "stream",
     "text": [
      "osu\n"
     ]
    }
   ],
   "source": [
    "def logistic(x, w):\n",
    "    \"\"\"ロジスティック回帰モデル\"\"\"\n",
    "    \"\"\"シグモイド関数の中に直線の式\"\"\"\n",
    "    y = 1 / (1 + np.exp(-(w[0] * x + w[1])))\n",
    "    return y\n",
    "\n",
    "Y = np.array([1.1])\n",
    "# T = [1]\n",
    "W = [ 8.28998982 , -8.71510934]\n",
    "a = logistic(Y, W)\n",
    "\n",
    "if a >= 0.5:\n",
    "    print(\"osu\")\n",
    "else:\n",
    "    print(\"mesu\")"
   ]
  },
  {
   "cell_type": "code",
   "execution_count": 5,
   "metadata": {},
   "outputs": [
    {
     "data": {
      "text/plain": [
       "0.2764706695524772"
      ]
     },
     "execution_count": 5,
     "metadata": {},
     "output_type": "execute_result"
    }
   ],
   "source": [
    "def cee_logistic(w, x, t):\n",
    "    \"\"\"平均交差エントロピー誤差関数\"\"\"\n",
    "    y = logistic(x, w)\n",
    "    \n",
    "    cee = 0\n",
    "    for n in range(len(y)):\n",
    "        \n",
    "        cee = cee - (t[n] * np.log(y[n]) + (1 - t[n]) * np.log(1 - y[n]))\n",
    "        \n",
    "    cee = cee / X_n\n",
    "    return cee\n",
    "\n",
    "\n",
    "cee_logistic(W, X, T)"
   ]
  },
  {
   "cell_type": "code",
   "execution_count": 6,
   "metadata": {},
   "outputs": [
    {
     "data": {
      "text/plain": [
       "array([0.06916982, 0.06614985])"
      ]
     },
     "execution_count": 6,
     "metadata": {},
     "output_type": "execute_result"
    }
   ],
   "source": [
    "def dcee_logistic(w, x, t):\n",
    "    \"\"\"学習則\"\"\"\n",
    "    y = logistic(x, w)\n",
    "    dcee = np.zeros(2)\n",
    "    for n in range(len(y)):\n",
    "        dcee[0] = dcee[0] + (y[n] - t[n]) * x[n]\n",
    "        dcee[1] = dcee[1] + (y[n] - t[n])\n",
    "    dcee = dcee / X_n\n",
    "    return dcee\n",
    "\n",
    "dcee_logistic(W, X, T)"
   ]
  },
  {
   "cell_type": "code",
   "execution_count": 7,
   "metadata": {},
   "outputs": [
    {
     "name": "stdout",
     "output_type": "stream",
     "text": [
      "[ 8.17647664 -9.3822462 ]\n",
      "0.2510446337942391\n"
     ]
    }
   ],
   "source": [
    "from scipy.optimize import minimize\n",
    "\n",
    "def fit_logistic(w_init, x, t):\n",
    "    \"\"\"勾配法\"\"\"\n",
    "    res1 = minimize(cee_logistic, w_init, args=(x,t), jac=dcee_logistic, method=\"CG\")\n",
    "    return res1.x\n",
    "\n",
    "\n",
    "W_init = [1, -1]\n",
    "W = fit_logistic(W_init, X, T)\n",
    "cee = cee_logistic(W, X, T)\n",
    "print(W)\n",
    "print(cee)"
   ]
  },
  {
   "cell_type": "code",
   "execution_count": null,
   "metadata": {},
   "outputs": [],
   "source": []
  },
  {
   "cell_type": "code",
   "execution_count": null,
   "metadata": {},
   "outputs": [],
   "source": []
  }
 ],
 "metadata": {
  "kernelspec": {
   "display_name": "Python 3",
   "language": "python",
   "name": "python3"
  },
  "language_info": {
   "codemirror_mode": {
    "name": "ipython",
    "version": 3
   },
   "file_extension": ".py",
   "mimetype": "text/x-python",
   "name": "python",
   "nbconvert_exporter": "python",
   "pygments_lexer": "ipython3",
   "version": "3.6.5"
  }
 },
 "nbformat": 4,
 "nbformat_minor": 2
}
